{
 "cells": [
  {
   "cell_type": "markdown",
   "metadata": {},
   "source": [
    "Assuming you have already extracted the files"
   ]
  },
  {
   "cell_type": "code",
   "execution_count": 1,
   "metadata": {},
   "outputs": [],
   "source": [
    "import re\n",
    "#number of entries in this zip: 996181\n",
    "filename= \"s2-corpus-000\"\n",
    "filedir= \"/home/ricostynha/Desktop/Erasmus/Apps/FoolingAround\"\n",
    "filepath = filedir+\"/\"+filename"
   ]
  },
  {
   "cell_type": "code",
   "execution_count": 2,
   "metadata": {},
   "outputs": [],
   "source": [
    "#just for modularity read the first 10000 entries and save in a file just to have one\n",
    "Maxentries = 10000;\n",
    "dstname = \"fist10000papers.txt\"\n",
    "dstpath = filedir+\"/\"+dstname;\n",
    "file_list = []\n",
    "dstfile= open(dstpath,\"w+\")\n",
    "with open(filepath) as infile:\n",
    "    for line in infile:\n",
    "        Maxentries-=1\n",
    "        file_list.append(line)\n",
    "        dstfile.write(line);\n",
    "        if(Maxentries==0):\n",
    "            break\n",
    "dstfile.close()"
   ]
  },
  {
   "cell_type": "code",
   "execution_count": 3,
   "metadata": {},
   "outputs": [],
   "source": [
    "def parsingraw_entry(raw):\n",
    "    #year is ommisee for web pages , so it will have less fields\n",
    "    fields = ['\"entities\":','\"journalVolume\":','\"journalPages\":','\"pmid\":','\"year\":','\"outCitations\":','\"s2Url\":','\"s2PdfUrl\"',\n",
    "         '\"id\":','\"authors\":','\"journalName\":','\"paperAbstract\":','\"inCitations\":','\"pdfUrls\":',\n",
    "         '\"title\":','\"doi\":','\"sources\":','\"doiUrl\":','\"venue\":']\n",
    "    helper_list=[]\n",
    "    for field in fields:\n",
    "        match = re.search(field,raw)\n",
    "        if(match != None):\n",
    "            helper_list.append([match.group(),match.span()])\n",
    "\n",
    "    reference_list=[]\n",
    "    for i in range(0,len(helper_list)-1):\n",
    "        begin = helper_list[i][1][1]\n",
    "        end   = helper_list[i+1][1][0]\n",
    "        reference_list.append([helper_list[i][0],raw[begin:end]])\n",
    "    begin = helper_list[-1][1][1]\n",
    "    reference_list.append([helper_list[-1][0],raw[begin:]])\n",
    "    return reference_list\n",
    "   \n",
    "    "
   ]
  },
  {
   "cell_type": "code",
   "execution_count": 4,
   "metadata": {},
   "outputs": [],
   "source": [
    "data = []\n",
    "for i in range(10000):\n",
    "    a = parsingraw_entry(file_list[i])\n",
    "    if(len(a)==19):\n",
    "        c = [b[1] for b in a]\n",
    "        data.append(c)\n",
    "    else:\n",
    "        c1 = [b[1] for b in a[0:4]]\n",
    "        c2 = [None]\n",
    "        c3 = [b[1] for b in a[4:]]\n",
    "        data.append(c1+c2+c3)\n",
    "  \n",
    "        \n",
    "        "
   ]
  },
  {
   "cell_type": "code",
   "execution_count": 5,
   "metadata": {},
   "outputs": [],
   "source": [
    "import pandas as pd\n",
    "titles  = ['entities','journalVolume','journalPages','pmid','year:','outCitations','s2Url','s2PdfUrl',\n",
    "'id','authors','journalName','paperAbstract','inCitations','pdfUrls',\n",
    "'title','doi','sources','doiUrl','venue']\n",
    "\n",
    "df = pd.DataFrame(data,columns=titles)"
   ]
  },
  {
   "cell_type": "code",
   "execution_count": 6,
   "metadata": {},
   "outputs": [],
   "source": [
    "#replacing empty things by none\n",
    "df = df.replace({\"[],\":None})\n",
    "df = df.replace({'\"\",':None})\n",
    "df = df.replace({':\"\"':None})\n",
    "df = df.replace({'\"\"}\\n':None})\n",
    "df = df.replace({':\"\",':None})"
   ]
  },
  {
   "cell_type": "code",
   "execution_count": 9,
   "metadata": {},
   "outputs": [],
   "source": [
    "df.to_csv(\"first1000entries\")\n"
   ]
  }
 ],
 "metadata": {
  "kernelspec": {
   "display_name": "Python 3",
   "language": "python",
   "name": "python3"
  },
  "language_info": {
   "codemirror_mode": {
    "name": "ipython",
    "version": 3
   },
   "file_extension": ".py",
   "mimetype": "text/x-python",
   "name": "python",
   "nbconvert_exporter": "python",
   "pygments_lexer": "ipython3",
   "version": "3.7.3"
  }
 },
 "nbformat": 4,
 "nbformat_minor": 2
}
