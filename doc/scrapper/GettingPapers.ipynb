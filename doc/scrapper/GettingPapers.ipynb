{
 "cells": [
  {
   "cell_type": "markdown",
   "metadata": {},
   "source": [
    "Trying to fetch date from SemanticScholar, Clarivate, and ArXiv databases (und web of science)"
   ]
  },
  {
   "cell_type": "markdown",
   "metadata": {},
   "source": [
    "## SemanticScholar\n",
    "license : https://api.semanticscholar.org/corpus/legal/\n",
    "Resume: License Grant. Effective as of the Effective Date, AI2 grants to Licensee a worldwide, perpetual (except as provided in Section 8(d) below), non-exclusive, non-transferable, non-sublicensable license to use and make derivatives of the Data only for Licensee’s non-commercial, internal operation and use and subject to the further provisions below\n",
    "\n",
    "About the size , it has 178 zip files off 0.5 GB zipped each ->1.5Gb unzipped....."
   ]
  },
  {
   "cell_type": "code",
   "execution_count": 26,
   "metadata": {},
   "outputs": [],
   "source": [
    "#SemanticScholar\n",
    "#licence https://api.semanticscholar.org/corpus/legal/\n",
    "#about the dat\n",
    "import requests\n",
    "URL = \"https://s3-us-west-2.amazonaws.com/ai2-s2-research-public/open-corpus/2019-11-01/manifest.txt\"\n",
    "manifesto = requests.get(url = URL).text\n",
    "URLzips = \"https://s3-us-west-2.amazonaws.com/ai2-s2-research-public/open-corpus/2019-11-01/\"\n",
    "Zip_entryes = manifesto.split(\"\\n\")\n",
    "Zip_UrLs = [URLzips+x for x in Zip_entryes]"
   ]
  },
  {
   "cell_type": "code",
   "execution_count": 35,
   "metadata": {},
   "outputs": [],
   "source": [
    "Zip_entryes = manifesto.split(\"\\n\")\n",
    "Zip_UrLs = [URLzips+x for x in Zip_entryes]"
   ]
  },
  {
   "cell_type": "code",
   "execution_count": 40,
   "metadata": {},
   "outputs": [
    {
     "name": "stdout",
     "output_type": "stream",
     "text": [
      "You are requesting a get to:https://s3-us-west-2.amazonaws.com/ai2-s2-research-public/open-corpus/2019-11-01/s2-corpus-000.gz\n"
     ]
    }
   ],
   "source": [
    "#Run this off you have a good internet connection and 2.5Gb free space in the disc\n",
    "#note to reallly destroy your computer you can remove break and then you need arround 200GB and a infinite\n",
    "#amount of time\n",
    "from urllib.request import urlretrieve\n",
    "ProjectPath = \"/home/ricostynha/Desktop/Erasmus/Apps/FoolingAround\"\n",
    "for (file_name,file_url) in zip(Zip_entryes,Zip_UrLs):\n",
    "    print(\"You are requesting a get to:\" +file_url)\n",
    "    dst = ProjectPath+\"/\"+file_name\n",
    "    urlretrieve(file_url, dst)\n",
    "    print(\"Finished retreiving\")\n",
    "    break"
   ]
  }
 ],
 "metadata": {
  "kernelspec": {
   "display_name": "Python 3",
   "language": "python",
   "name": "python3"
  },
  "language_info": {
   "codemirror_mode": {
    "name": "ipython",
    "version": 3
   },
   "file_extension": ".py",
   "mimetype": "text/x-python",
   "name": "python",
   "nbconvert_exporter": "python",
   "pygments_lexer": "ipython3",
   "version": "3.7.3"
  }
 },
 "nbformat": 4,
 "nbformat_minor": 2
}
